{
 "cells": [
  {
   "cell_type": "code",
   "execution_count": null,
   "metadata": {},
   "outputs": [],
   "source": [
    "import sys\n",
    "sys.path.insert(0, \"../../shared_sources\")\n",
    "\n",
    "import matplotlib.pyplot as plt\n",
    "import numpy as np\n",
    "import librosa\n",
    "\n",
    "\n",
    "from sklearn.preprocessing import MinMaxScaler\n",
    "from scipy.signal import get_window\n",
    "from librosa.util import pad_center, tiny\n",
    "from torch.autograd import Variable\n",
    "import torch.nn.functional as F\n",
    "import torch"
   ]
  },
  {
   "cell_type": "markdown",
   "metadata": {},
   "source": [
    "# load trained scaler"
   ]
  },
  {
   "cell_type": "code",
   "execution_count": null,
   "metadata": {},
   "outputs": [],
   "source": [
    "import pickle\n",
    "import os\n",
    "from sklearn.preprocessing import MaxAbsScaler\n",
    "scaler = pickle.load(open(\"../../shared_sources/fitted_maxabsscalerx80.sav\", 'rb'))"
   ]
  },
  {
   "cell_type": "markdown",
   "metadata": {},
   "source": [
    "# initialize mel method"
   ]
  },
  {
   "cell_type": "code",
   "execution_count": null,
   "metadata": {},
   "outputs": [],
   "source": [
    "from stft import CalcMel\n",
    "calc_mel = CalcMel(scaler)  "
   ]
  },
  {
   "cell_type": "markdown",
   "metadata": {},
   "source": [
    "# initialize dataloader"
   ]
  },
  {
   "cell_type": "code",
   "execution_count": null,
   "metadata": {},
   "outputs": [],
   "source": [
    "import bird_dataset as loader\n",
    "data_path = \"/media/fabi/terra/birdsongs/data/flacs/\"\n",
    "\n",
    "class_folders = [\"Willow Warbler \", \"Great Tit \"] \n",
    "\n",
    "slice_length = 0.92 # seconds\n",
    "desired_semplerate = 22050\n",
    "debug = False\n",
    "rewrite_npy = False\n",
    "\n",
    "generator = loader.CustomDataGenerator(data_path, class_folders, slice_length, desired_semplerate, \n",
    "                                 1, 40, -1, calc_mel.mel_spectrogram,1, debug, rewrite_npy)\n",
    "\n",
    "train_generator,_  = generator.get_generators()\n",
    "print(f'epoch size {len(train_generator)} steps')"
   ]
  },
  {
   "cell_type": "markdown",
   "metadata": {},
   "source": [
    "# initialize critic configuration"
   ]
  },
  {
   "cell_type": "code",
   "execution_count": null,
   "metadata": {},
   "outputs": [],
   "source": [
    "\n",
    "from models import Critic, Generator, initialize_weights, LayerDO\n",
    "crit_layers = []\n",
    "crit_layers.append(LayerDO(1,64,4,2,1))\n",
    "crit_layers.append(LayerDO(64,128,4,2,1))\n",
    "crit_layers.append(LayerDO(128,256,4,2,1))\n",
    "crit_layers.append(LayerDO(256,512,4,2,1))\n",
    "crit_layers.append(LayerDO(512,1,4,2,0))\n",
    "\n",
    "device = \"cuda\" if torch.cuda.is_available() else \"cpu\"\n",
    "print(device)\n",
    "LEARNING_RATE = 2e-4\n",
    "Z_DIM = 100\n",
    "CRITIC_ITERATIONS = 5\n",
    "LAMBDA_GP = 10\n"
   ]
  },
  {
   "cell_type": "markdown",
   "metadata": {},
   "source": [
    "# initialize and perform training of generator configuration 1"
   ]
  },
  {
   "cell_type": "code",
   "execution_count": null,
   "metadata": {},
   "outputs": [],
   "source": [
    "\n",
    "params = {\"critic_iterations\":CRITIC_ITERATIONS, \"latent_space_dim\":Z_DIM, \"lambda_gp\": LAMBDA_GP, \"experiment_folder\": 'ff1_1', \"log_iterations\":200, \"calc_fid\":True, \"evaluation_samples\": 10, \"device\":device}\n",
    "\n",
    "from train import WGAN_GP_training \n",
    "import torch\n",
    "import torch.nn as nn\n",
    "import torch.optim as optim\n",
    "from utils import gradient_penalty\n",
    "from models import Critic, Generator, initialize_weights, LayerDO\n",
    "\n",
    "gen_layers = []\n",
    "gen_layers.append(LayerDO(Z_DIM,1024,4,1,1))\n",
    "gen_layers.append(LayerDO(1024,512,5,2,0))\n",
    "gen_layers.append(LayerDO(512,256,5,2,0))\n",
    "gen_layers.append(LayerDO(256,128,5,2,0,1))\n",
    "gen_layers.append(LayerDO(128,1,5,2,0,1))\n",
    "\n",
    "gen = Generator(gen_layers).to(device)\n",
    "critic = Critic(crit_layers).to(device)\n",
    "initialize_weights(gen)\n",
    "initialize_weights(critic)\n",
    "opt_gen = optim.Adam(gen.parameters(), lr=LEARNING_RATE, betas=(0.5, 0.9))\n",
    "opt_critic = optim.Adam(critic.parameters(), lr=LEARNING_RATE, betas=(0.5, 0.9))\n",
    "\n",
    "training = WGAN_GP_training(gen,critic,train_generator,opt_gen,opt_critic,params)\n",
    "\n",
    "for i in range(0,5):\n",
    "    training.train_epoch()\n",
    "    gen, critic = training.get_models()\n",
    "    \n"
   ]
  },
  {
   "cell_type": "markdown",
   "metadata": {},
   "source": [
    "# initialize and perform training of generator configuration 2"
   ]
  },
  {
   "cell_type": "code",
   "execution_count": null,
   "metadata": {
    "tags": [
     "outputPrepend"
    ]
   },
   "outputs": [],
   "source": [
    "\n",
    "params = {\"critic_iterations\":CRITIC_ITERATIONS, \"latent_space_dim\":Z_DIM, \"lambda_gp\": LAMBDA_GP, \"experiment_folder\": 'ff1_2', \"log_iterations\":200, \"calc_fid\":True, \"evaluation_samples\": 10, \"device\":device}\n",
    "\n",
    "from train import WGAN_GP_training \n",
    "import torch\n",
    "import torch.nn as nn\n",
    "import torch.optim as optim\n",
    "from utils import gradient_penalty\n",
    "from models import Critic, Generator, initialize_weights, LayerDO\n",
    "\n",
    "\n",
    "gen_layers = []\n",
    "gen_layers.append(LayerDO(Z_DIM,128,4,1,0))\n",
    "gen_layers.append(LayerDO(128,64,4,1,1))\n",
    "gen_layers.append(LayerDO(64,32,4,2,1))\n",
    "gen_layers.append(LayerDO(32,16,4,2,1))\n",
    "gen_layers.append(LayerDO(16,8,4,2,1))\n",
    "gen_layers.append(LayerDO(8,1,4,2,1))\n",
    "\n",
    "gen = Generator(gen_layers).to(device)\n",
    "critic = Critic(crit_layers).to(device)\n",
    "initialize_weights(gen)\n",
    "initialize_weights(critic)\n",
    "opt_gen = optim.Adam(gen.parameters(), lr=LEARNING_RATE, betas=(0.5, 0.9))\n",
    "opt_critic = optim.Adam(critic.parameters(), lr=LEARNING_RATE, betas=(0.5, 0.9))\n",
    "\n",
    "training = WGAN_GP_training(gen,critic,train_generator,opt_gen,opt_critic,params)\n",
    "\n",
    "for i in range(0,5):\n",
    "    training.train_epoch()\n",
    "    gen, critic = training.get_models()\n",
    "    \n"
   ]
  },
  {
   "cell_type": "markdown",
   "metadata": {},
   "source": [
    "# initialize and perform training of generator configuration 3"
   ]
  },
  {
   "cell_type": "code",
   "execution_count": null,
   "metadata": {},
   "outputs": [],
   "source": [
    "\n",
    "params = {\"critic_iterations\":CRITIC_ITERATIONS, \"latent_space_dim\":Z_DIM, \"lambda_gp\": LAMBDA_GP, \"experiment_folder\": 'ff1_3', \"log_iterations\":200, \"calc_fid\":True, \"evaluation_samples\": 10, \"device\":device}\n",
    "\n",
    "from train import WGAN_GP_training \n",
    "import torch\n",
    "import torch.nn as nn\n",
    "import torch.optim as optim\n",
    "from utils import gradient_penalty\n",
    "from models import Critic, Generator, initialize_weights, LayerDO\n",
    "\n",
    "\n",
    "gen_layers = []\n",
    "gen_layers.append(LayerDO(Z_DIM,512,4,1,0))\n",
    "gen_layers.append(LayerDO(512,256,4,1,1))\n",
    "gen_layers.append(LayerDO(256,128,4,2,1))\n",
    "gen_layers.append(LayerDO(128,64,4,2,1))\n",
    "gen_layers.append(LayerDO(64,32,4,2,1))\n",
    "gen_layers.append(LayerDO(32,1,4,2,1))\n",
    "\n",
    "gen = Generator(gen_layers).to(device)\n",
    "critic = Critic(crit_layers).to(device)\n",
    "initialize_weights(gen)\n",
    "initialize_weights(critic)\n",
    "opt_gen = optim.Adam(gen.parameters(), lr=LEARNING_RATE, betas=(0.5, 0.9))\n",
    "opt_critic = optim.Adam(critic.parameters(), lr=LEARNING_RATE, betas=(0.5, 0.9))\n",
    "\n",
    "training = WGAN_GP_training(gen,critic,train_generator,opt_gen,opt_critic,params)\n",
    "\n",
    "for i in range(0,5):\n",
    "    training.train_epoch()\n",
    "    gen, critic = training.get_models()\n",
    "    \n"
   ]
  },
  {
   "cell_type": "markdown",
   "metadata": {},
   "source": [
    "# initialize and perform training of generator configuration 4"
   ]
  },
  {
   "cell_type": "code",
   "execution_count": null,
   "metadata": {
    "tags": [
     "outputPrepend"
    ]
   },
   "outputs": [],
   "source": [
    "\n",
    "params = {\"critic_iterations\":CRITIC_ITERATIONS, \"latent_space_dim\":Z_DIM, \"lambda_gp\": LAMBDA_GP, \"experiment_folder\": 'ff1_4', \"log_iterations\":200, \"calc_fid\":True, \"evaluation_samples\": 10, \"device\":device}\n",
    "\n",
    "from train import WGAN_GP_training \n",
    "import torch\n",
    "import torch.nn as nn\n",
    "import torch.optim as optim\n",
    "from utils import gradient_penalty\n",
    "from models import Critic, Generator, initialize_weights, LayerDO\n",
    "\n",
    "\n",
    "gen_layers = []\n",
    "gen_layers.append(LayerDO(Z_DIM,512,4,1,1))\n",
    "gen_layers.append(LayerDO(512,256,5,1,1))\n",
    "gen_layers.append(LayerDO(256,128,5,2,1))\n",
    "gen_layers.append(LayerDO(128,64,5,2,1))\n",
    "gen_layers.append(LayerDO(64,32,5,2,1))\n",
    "gen_layers.append(LayerDO(32,1,5,2,1,1))\n",
    "\n",
    "gen = Generator(gen_layers).to(device)\n",
    "critic = Critic(crit_layers).to(device)\n",
    "initialize_weights(gen)\n",
    "initialize_weights(critic)\n",
    "opt_gen = optim.Adam(gen.parameters(), lr=LEARNING_RATE, betas=(0.5, 0.9))\n",
    "opt_critic = optim.Adam(critic.parameters(), lr=LEARNING_RATE, betas=(0.5, 0.9))\n",
    "\n",
    "training = WGAN_GP_training(gen,critic,train_generator,opt_gen,opt_critic,params)\n",
    "\n",
    "for i in range(0,5):\n",
    "    training.train_epoch()\n",
    "    gen, critic = training.get_models()\n",
    "    \n"
   ]
  },
  {
   "cell_type": "markdown",
   "metadata": {},
   "source": [
    "# initialize and perform training of generator configuration 5"
   ]
  },
  {
   "cell_type": "code",
   "execution_count": null,
   "metadata": {},
   "outputs": [],
   "source": [
    "\n",
    "params = {\"critic_iterations\":CRITIC_ITERATIONS, \"latent_space_dim\":Z_DIM, \"lambda_gp\": LAMBDA_GP, \"experiment_folder\": 'ff1_5', \"log_iterations\":200, \"calc_fid\":True, \"evaluation_samples\": 10, \"device\":device}\n",
    "\n",
    "from train import WGAN_GP_training \n",
    "import torch\n",
    "import torch.nn as nn\n",
    "import torch.optim as optim\n",
    "from utils import gradient_penalty\n",
    "from models import Critic, Generator, initialize_weights, LayerDO\n",
    "\n",
    "gen_layers = []\n",
    "gen_layers.append(LayerDO(Z_DIM,512,5,1,1))\n",
    "gen_layers.append(LayerDO(512,256,5,1,1))\n",
    "gen_layers.append(LayerDO(256,128,5,1,1))\n",
    "gen_layers.append(LayerDO(128,64,5,1,1))\n",
    "gen_layers.append(LayerDO(64,32,5,2,1))\n",
    "gen_layers.append(LayerDO(32,16,5,2,1))\n",
    "gen_layers.append(LayerDO(16,1,5,2,1,1))\n",
    "\n",
    "gen = Generator(gen_layers).to(device)\n",
    "critic = Critic(crit_layers).to(device)\n",
    "initialize_weights(gen)\n",
    "initialize_weights(critic)\n",
    "opt_gen = optim.Adam(gen.parameters(), lr=LEARNING_RATE, betas=(0.5, 0.9))\n",
    "opt_critic = optim.Adam(critic.parameters(), lr=LEARNING_RATE, betas=(0.5, 0.9))\n",
    "\n",
    "training = WGAN_GP_training(gen,critic,train_generator,opt_gen,opt_critic,params)\n",
    "\n",
    "for i in range(0,5):\n",
    "    training.train_epoch()\n",
    "    gen, critic = training.get_models()\n",
    "    \n"
   ]
  }
 ],
 "metadata": {
  "kernelspec": {
   "display_name": "Python 3",
   "language": "python",
   "name": "python3"
  },
  "language_info": {
   "codemirror_mode": {
    "name": "ipython",
    "version": 3
   },
   "file_extension": ".py",
   "mimetype": "text/x-python",
   "name": "python",
   "nbconvert_exporter": "python",
   "pygments_lexer": "ipython3",
   "version": "3.6.9"
  }
 },
 "nbformat": 4,
 "nbformat_minor": 4
}
