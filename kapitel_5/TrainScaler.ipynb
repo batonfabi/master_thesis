{
 "cells": [
  {
   "cell_type": "code",
   "execution_count": 22,
   "metadata": {},
   "outputs": [],
   "source": [
    "import sys\n",
    "sys.path.insert(0, \"../shared_sources\")\n",
    "import bird_dataset as loader\n",
    "\n",
    "from stft import CalcMel\n",
    "from sklearn.preprocessing import MaxAbsScaler\n",
    "from ipywidgets import IntProgress\n",
    "from IPython.display import display\n",
    "import numpy as np\n",
    "import pickle"
   ]
  },
  {
   "cell_type": "markdown",
   "metadata": {},
   "source": [
    "### load mel_spectogram calculator. the transformer will be used for scaling durig the training of the wgan. For now it just passes the values"
   ]
  },
  {
   "cell_type": "code",
   "execution_count": 15,
   "metadata": {},
   "outputs": [],
   "source": [
    "class transformer():\n",
    "    def transform(self, y):\n",
    "        return y\n",
    "# transformer() will be replaced with the trained maxabscaler during training of the wgan\n",
    "calc_mel = CalcMel(transformer(), (40,1,80,80))"
   ]
  },
  {
   "cell_type": "markdown",
   "metadata": {},
   "source": [
    "### setup dataloader witch creates batches of mel-spectograms for training"
   ]
  },
  {
   "cell_type": "code",
   "execution_count": 16,
   "metadata": {
    "tags": []
   },
   "outputs": [
    {
     "name": "stdout",
     "output_type": "stream",
     "text": [
      "2616\n"
     ]
    }
   ],
   "source": [
    "data_path = \"/media/fabi/terra/birdsongs/data/wavs/\"\n",
    "class_folders = [\"Willow Warbler \", \"Great Tit \"]\n",
    "\n",
    "slice_length = 0.92 # seconds\n",
    "desired_semplerate = 22050\n",
    "debug = False\n",
    "rewrite_npy = False\n",
    "\n",
    "generator = loader.CustomDataGenerator(data_path, class_folders, slice_length, desired_semplerate, \n",
    "                                 1, 40, -1, calc_mel.mel_spectrogram,1, debug, rewrite_npy)\n",
    "\n",
    "train_generator,_  = generator.get_generators()\n",
    "print(len(train_generator))"
   ]
  },
  {
   "cell_type": "markdown",
   "metadata": {},
   "source": [
    "### init maxabscaler"
   ]
  },
  {
   "cell_type": "code",
   "execution_count": 17,
   "metadata": {},
   "outputs": [],
   "source": [
    "scaler = MaxAbsScaler()\n",
    "scalerfile = 'fitted_maxabsscalerx80.sav'"
   ]
  },
  {
   "cell_type": "markdown",
   "metadata": {},
   "source": [
    "### train maxabscaler"
   ]
  },
  {
   "cell_type": "code",
   "execution_count": null,
   "metadata": {},
   "outputs": [],
   "source": [
    "i = 0\n",
    "f = IntProgress(min=0, max=len(train_generator))\n",
    "display(f)\n",
    "\n",
    "for batch,_ in train_generator:\n",
    "    f.value += 1\n",
    "    for im in batch:\n",
    "        im = np.reshape(im.numpy(),(80,80))\n",
    "        scaler.partial_fit(im)\n",
    "    if i % 1000 == 0:\n",
    "        pickle.dump(scaler, open(scalerfile, 'wb'))\n",
    "    i = i +1\n",
    "\n",
    "pickle.dump(scaler, open(scalerfile, 'wb'))"
   ]
  }
 ],
 "metadata": {
  "kernelspec": {
   "display_name": "Python 3",
   "language": "python",
   "name": "python3"
  },
  "language_info": {
   "codemirror_mode": {
    "name": "ipython",
    "version": 3
   },
   "file_extension": ".py",
   "mimetype": "text/x-python",
   "name": "python",
   "nbconvert_exporter": "python",
   "pygments_lexer": "ipython3",
   "version": "3.6.9"
  }
 },
 "nbformat": 4,
 "nbformat_minor": 2
}
